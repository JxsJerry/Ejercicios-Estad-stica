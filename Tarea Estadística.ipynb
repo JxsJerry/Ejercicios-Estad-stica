{
 "cells": [
  {
   "cell_type": "markdown",
   "metadata": {},
   "source": [
    "## Hernández Martínez Oscar Gerardo"
   ]
  },
  {
   "cell_type": "code",
   "execution_count": 1,
   "metadata": {},
   "outputs": [],
   "source": [
    "import numpy as np\n",
    "import pandas as pd\n",
    "import matplotlib.pyplot as plt\n",
    "%matplotlib inline"
   ]
  },
  {
   "cell_type": "markdown",
   "metadata": {},
   "source": [
    "### 1. Sea $z_t$ un proceso, donde $t$ es un número par, donde $z_t$ es una secuencia de variables aleatorias tales que:\n",
    "\n",
    "$$z_t = \\left\\{\\begin{array}{ll}\\\n",
    "1 & P[1] = \\frac{1}{2} \\\\\n",
    "-1 & P[-1] = \\frac{1}{2} \\\\\n",
    "\\end{array}\\right.$$\n",
    "\n",
    "Si $t$ es impar, $z_t = z_{t-1}$\n",
    "\n",
    "### a) ¿El proceso es estacionario de orden 1?\n",
    "\n",
    "Caso $t$ par\n",
    "\n",
    "$$E[z_t] = \\frac{1}{2}(1) + \\frac{1}{2}(-1) = 0$$\n",
    "\n",
    "$$Var[z_t] = E[(z_t - \\bar{z}_t)^2] = E[z_t^2] = \\frac{1}{2} (1)^2 + \\frac{1}{2}(-1)^2 = 1 < \\infty$$\n",
    "\n",
    "$$\\gamma(x_t, x_{t+k}) = E[(x_t - E[x_t])(x_{t+k} - E[z_{t+k}])] $$\n",
    "\n",
    "$$\\Rightarrow k = 1$$\n",
    "\n",
    "$$\\Rightarrow E[x_t x_{t+1}] = E[x_t x_{t+1-1}] = E[x_t x_t] = E[x_t^2] = 1$$\n",
    "\n",
    "Caso $t$ impar\n",
    "\n",
    "$$E[z_t] = E[z_{t-1}] = \\frac{1}{2}(1) + \\frac{1}{2}(-1) = 0$$\n",
    "\n",
    "$$Var[z_t] = Var[z_{t-1}] = E[(z_{t-1} - \\bar{z}_{t-1})^2] = E[z_{t-1}^2] = \\frac{1}{2} (1)^2 + \\frac{1}{2}(-1)^2 = 1 < \\infty$$\n",
    "\n",
    "$$\\gamma(x_t, x_{t+k}) = E[(x_t - E[x_t])(x_{t+k} - E[z_{t+k}])] $$\n",
    "\n",
    "$$\\Rightarrow k = -1$$\n",
    "\n",
    "$$\\Rightarrow E[x_t x_{t-1}] = E[x_{t-1} x_{t-1}] = E[x_{t-1} x_{t-1}] = E[x_{t-1}^2] = 1$$\n",
    "\n",
    "$\\therefore$ el proceso es estacionario de orden $1$ y orden $2$\n"
   ]
  },
  {
   "cell_type": "markdown",
   "metadata": {},
   "source": [
    "### 2. Sea $z_t = U \\sin(\\pi t) + V \\cos(2\\pi t)$, donde $U$ y $V$ son variables aleatorias con media $0$ y varianza $1$.\n",
    "\n",
    "#### 1) ¿$z_t$ es un proceso débilmente estacionario? Calcula función de autocovarianza $\\gamma_h$ \n",
    "\n",
    "$$E[z_t] = E[U \\sin(\\pi t) + V \\cos(2\\pi t)] = E[U \\sin(\\pi t)] + E[V \\cos(2\\pi t)] = E[U] E[\\sin(\\pi t)] + E[V] E[\\cos(2\\pi t)] = 0 \\ \\ \\ \\checkmark$$"
   ]
  },
  {
   "cell_type": "markdown",
   "metadata": {},
   "source": [
    "$$Var(z_t) = E[(z_t - \\bar{z}_t)^2] = E[z_t^2] = E[(U \\sin(\\pi t) + V \\cos(2\\pi t))^2] = E[U^2 \\sin^2(\\pi t) + V^2 \\cos^2(2\\pi t) + 2 UV \\sin(\\pi t) \\cos(2\\pi t)] =$$\n",
    "\n",
    "$$E[U^2 \\sin^2(\\pi t)] + E[V^2 \\cos^2(2\\pi t)] + 2E[U]E[V]E[\\sin(\\pi t) \\cos(2\\pi t)] = E[U^2]E[\\sin^2(\\pi t)] + E[V^2]E[\\cos^2(2\\pi t)]$$\n",
    "\n",
    "OBS: Como $t \\in \\mathbb{Z}$\n",
    "\n",
    "$$\\sin^2(\\pi t) = 0 \\ \\ \\forall t$$\n",
    "\n",
    "$$\\cos^2(2\\pi t) = 1 \\ \\ \\forall t$$\n",
    "\n",
    "$$\\Rightarrow E[U^2]E[\\sin^2(\\pi t)] + E[V^2]E[\\cos^2(2\\pi t)] = E[\\cos^2(2\\pi t)] = \\cos^2(2\\pi t) = 1 \\ \\ \\checkmark$$"
   ]
  },
  {
   "cell_type": "markdown",
   "metadata": {},
   "source": [
    "$$\\gamma(t, t + \\tau) = E[(U \\sin(\\pi t) + V \\cos(2\\pi t))(U \\sin(\\pi (t+\\tau)) + V \\cos(2\\pi (t+\\tau)))] = $$\n",
    "\n",
    "$$E[U^2 \\sin(\\pi t) \\sin(\\pi (t+\\tau)) + V^2 \\cos(2\\pi t) \\cos(2\\pi (t+\\tau)) + UV \\sin(\\pi t)\\cos(2\\pi (t+\\tau)) + UV \\cos(2\\pi t)\\sin(\\pi (t+\\tau))] =$$\n",
    "\n",
    "$$E[U^2 \\sin(\\pi t) \\sin(\\pi (t+\\tau))] + E[V^2 \\cos(2\\pi t) \\cos(2\\pi (t+\\tau))] + E[UV \\sin(\\pi t)\\cos(2\\pi (t+\\tau))] + E[UV \\cos(2\\pi t)\\sin(\\pi (t+\\tau))] =$$\n",
    "\n",
    "$$E[U^2] E[\\sin(\\pi t) \\sin(\\pi (t+\\tau))] + E[V^2] E[\\cos(2\\pi t) \\cos(2\\pi (t+\\tau))] = E[\\sin(\\pi t) \\sin(\\pi (t+\\tau))] + E[\\cos(2\\pi t) \\cos(2\\pi (t+\\tau))]$$\n",
    "\n",
    "OBS: Como $t \\in \\mathbb{Z}$\n",
    "\n",
    "$$\\sin(\\pi t) = 0 \\ \\ \\forall t$$\n",
    "\n",
    "$$\\cos(2\\pi t) = 1 \\ \\ \\forall t$$\n",
    "\n",
    "$$\\Rightarrow E[\\sin(\\pi t) \\sin(\\pi (t+\\tau))] + E[\\cos(2\\pi t) \\cos(2\\pi (t+\\tau))] = E[\\cos(2\\pi (t+\\tau))] = E[\\cos(2\\pi t) \\cos(2\\pi \\tau) - \\sin(2\\pi t)\\sin(2\\pi \\tau)]$$\n",
    "\n",
    "$$E[\\cos(2\\pi \\tau)] = \\cos(2\\pi \\tau) = 1 \\ \\ \\checkmark$$"
   ]
  },
  {
   "cell_type": "markdown",
   "metadata": {},
   "source": [
    "Como la media y varianza son constantes y la función de autocorrelación no depende de $t$, el proceso es débilmente estacionario"
   ]
  },
  {
   "cell_type": "markdown",
   "metadata": {},
   "source": [
    "### 3) Probar si los siguientes procesos son débilmente estacionarios"
   ]
  },
  {
   "cell_type": "markdown",
   "metadata": {},
   "source": [
    "#### a) $z_t = A\\sin(2\\pi t + \\theta)$, $A$ es una constante, $\\theta \\sim U(0,2\\pi)$\n",
    "\n",
    "$$E[z_t] = \\int_0^{2\\pi} \\frac{A \\sin(2\\pi t + \\theta)}{2\\pi} \\theta d\\theta = \\frac{A}{2\\pi} \\int_0^{2\\pi} \\theta \\sin(2\\pi t + \\theta) d\\theta =$$\n",
    "\n",
    "$$\\frac{A}{2\\pi}[-\\theta \\cos(2\\pi t + \\theta) + \\sin(2 \\pi t + \\theta)]_0^{2\\pi} = \\frac{A}{2\\pi} (-2\\pi \\cos(2\\pi t + 2\\pi) + \\sin(2\\pi t + 2\\pi) - \\sin(2\\pi t))$$\n",
    "\n",
    "OBS: Como $t \\in \\mathbb{Z}$\n",
    "\n",
    "$$\\sin(2\\pi t) = 0 \\ \\ \\forall t$$\n",
    "\n",
    "$$\\cos(2\\pi t) = 1 \\ \\ \\forall t$$\n",
    "\n",
    "$$\\Rightarrow \\frac{A}{2\\pi} (-2\\pi \\cos(2\\pi t + 2\\pi) + \\sin(2\\pi t + 2\\pi) - \\sin(2\\pi t)) = \\frac{A}{2\\pi} (-2\\pi \\cos(2\\pi (t + 1)) + \\sin(2\\pi (t + 1)) - \\sin(2\\pi t)) = \\frac{A}{2\\pi}(-2\\pi) = -A \\ \\ \\checkmark$$\n",
    "\n",
    "$$$$\n",
    "\n",
    "$$Var[z_t] = \\int_0^{2\\pi} (z_t - \\bar{z}_t)^2 \\frac{1}{2\\pi} d\\theta = \\frac{A^2}{2\\pi} \\int_0^{2\\pi} \\sin^2(2\\pi t + \\theta) d\\theta$$\n",
    "\n",
    "Sea \n",
    "\n",
    "$$z = 2\\pi t + \\theta \\ \\ \\Rightarrow \\frac{d z}{d \\theta} = d\\theta$$\n",
    "\n",
    "$$\\frac{A^2}{2\\pi} \\int \\sin^2(z) d z = \\frac{A^2}{2\\pi} (\\frac{1}{2} z - \\frac{\\sin(2z)}{4}) = \\frac{A^2}{2\\pi} (\\frac{1}{2} (2\\pi t + \\theta) - \\frac{\\sin(2(2\\pi t + \\theta))}{4})$$\n",
    "\n",
    "$$\\Rightarrow \\frac{A^2}{2\\pi} \\int_0^{2\\pi} \\sin^2(2\\pi t + \\theta) d\\theta = \\frac{A^2}{2\\pi} [(\\frac{1}{2} (2\\pi t + \\theta) - \\frac{\\sin(2(2\\pi t + \\theta))}{4})]_0^{2\\pi}$$\n",
    "\n",
    "$$\\frac{A^2}{2\\pi} [\\frac{1}{2} (2\\pi t + 2\\pi) - \\frac{\\sin(2(2\\pi t + 2\\pi))}{4} - (\\frac{1}{2} (2\\pi t) - \\frac{\\sin(2(2\\pi t))}{4})] = \\frac{A^2}{2\\pi} [\\frac{1}{2} (2\\pi(t+1)) - \\frac{1}{2} (2\\pi t)] = \\frac{A^2}{2} (\\frac{1}{2}(t+1) - \\frac{1}{2} t) = \\frac{A^2}{2} \\ \\ \\checkmark$$\n",
    "\n",
    "$$$$\n",
    "\n",
    "$$\\gamma(t, t+\\tau) = E[(z_t)(z_{t+h})] = E[(A\\sin(2\\pi t + \\theta))(A\\sin(2\\pi (t+h) + \\theta))] = E[A\\sin(2\\pi t + \\theta)]E[A\\sin(2\\pi (t+h) + \\theta)] = (-A)(-A) = A^2 \\ \\ \\checkmark$$\n",
    "\n",
    "Como la media, varianza y función de autocorrelación no dependen de $t$, el proceso es débilmente estacionario. "
   ]
  },
  {
   "cell_type": "markdown",
   "metadata": {},
   "source": [
    "#### b) $z_t = A\\sin(2\\pi t + \\theta)$, $A$ es una v.a. con media $0$ y varianza $1$ y $\\theta$ es una constante\n",
    "\n",
    "$$E[z_t] = E[A \\sin(2\\pi t + \\theta)] = E[A] E[\\sin(2\\pi t + \\theta)] = 0 \\ \\ \\checkmark$$\n",
    "\n",
    "$$$$\n",
    "\n",
    "$$Var[z_t] = E[(z_t - \\bar{z}_t)^2] = E[z_t^2] = E[(A \\sin(2\\pi t + \\theta))^2] = E[A^2 \\sin^2(2\\pi t + \\theta)] = E[A^2]E[\\sin^2(2\\pi t + \\theta)] =$$\n",
    "\n",
    "$$E[\\sin^2(2\\pi t + \\theta)] = E[\\frac{1-\\cos(2(2\\pi t + \\theta))}{2}] = E[\\frac{1}{2}] - E[\\frac{\\cos(2(2\\pi t + \\theta))}{2}] = \\frac{1}{2} - E[\\frac{\\cos(2\\pi(2 t + \\frac{\\theta}{\\pi}))}{2}]$$\n",
    "\n",
    "Como $t \\in \\mathbb{Z}$, el proceso $z_t$ tendrá varianza constante $\\Leftrightarrow \\ \\ \\theta = \\pi k \\ \\ k \\in \\mathbb{Z}$ \n",
    "\n",
    "$$$$\n",
    "\n",
    "$$\\gamma(t, t+\\tau) = E[(z_t)(z_{t+\\tau})] = E[(A\\sin(2\\pi t + \\theta))(A\\sin(2\\pi (t+\\tau) + \\theta))] = E[A^2 \\sin(2\\pi t + \\theta) \\sin(2\\pi (t+\\tau) + \\theta)] = E[A^2] E[\\sin(2\\pi t + \\theta) \\sin(2\\pi t + \\theta + 2\\pi \\tau)] = E[\\sin(2\\pi (t + \\frac{\\theta}{2\\pi})) \\sin(2\\pi (t + \\frac{\\theta}{2\\pi} + \\tau))]$$\n",
    "\n",
    "Como $t \\in \\mathbb{Z}$, el proceso $z_t$ tendrá función de autocovarianza constante $\\Leftrightarrow \\ \\ \\theta = 2\\pi k \\ \\ k \\in \\mathbb{Z}$\n",
    "\n",
    "$\\therefore$ el proceso $z_t$ será estacionario cuando $\\theta$ se un múltiplo par de $\\pi$"
   ]
  },
  {
   "cell_type": "markdown",
   "metadata": {},
   "source": [
    "#### c) $z_t = (-1)^tA$, $A$ es una v.a. con media $0$ y varianza $1$\n",
    "\n",
    "$$E[z_t] = E[(-1)^tA] = E[A]E[(-1)^t] = 0 \\ \\ \\checkmark$$\n",
    "\n",
    "$$$$\n",
    "\n",
    "$$Var[z_t] = E[(z_t - \\bar{z}_t)^2] = E[z_t^2] = E[((-1)^t A)^2] = E[A^2 (-1)^{2t}] = E[A^2]E[(-1)^{2t}] = E[(-1)^{2t}]$$\n",
    "\n",
    "OBS: Como $t \\in \\mathbb{Z}$, entonces $(-1)^{2t} = 1$\n",
    "\n",
    "$$E[(-1)^{2t}] = E[1] = 1 \\ \\ \\checkmark$$\n",
    "\n",
    "$$$$\n",
    "\n",
    "$$\\gamma(t, t+\\tau) = E[(z_t)(z_{t+\\tau})] = E[((-1)^tA)((-1)^{t+\\tau}A)] = E[A^2 (-1)^{t+t+\\tau}] = E[A^2]E[(-1)^{2t+\\tau}] = E[(-1)^{2t} (-1)^{\\tau}] = E[(-1)^{\\tau}]$$\n",
    "\n",
    "OBS: Como $\\tau$ es una constante, entonces $(-1)^{\\tau}$ es constante\n",
    "\n",
    "$$E[(-1)^{\\tau}] = (-1)^{\\tau} \\ \\ \\checkmark$$\n",
    "\n",
    "Como la media, varianza y función de autocovarianza son constantes, entonces el proceso es débilmente estacionario."
   ]
  },
  {
   "cell_type": "markdown",
   "metadata": {},
   "source": [
    "### 4) Verifica las siguientes propiedades de la función de autocorrelación\n",
    "\n",
    "a) $\\rho_0 = 1$\n",
    "\n",
    "Sabemos que:\n",
    "\n",
    "$$\\rho_k = \\frac{\\gamma_k}{\\gamma_0}$$\n",
    "\n",
    "Sea $k = 0$\n",
    "\n",
    "$$\\rho_0 = \\frac{\\gamma_0}{\\gamma_0} = 1 \\ \\ \\checkmark$$\n",
    "\n",
    "$$$$\n",
    "\n",
    "b) $|\\rho_k| \\le 1$\n",
    "\n",
    "$$|\\rho_k| = \\frac{|\\gamma_k|}{|\\gamma_0|}$$\n",
    "\n",
    "Af. \n",
    "\n",
    "$$|\\gamma_k| \\le \\gamma_0$$\n",
    "\n",
    "Raz.\n",
    "\n",
    "$$Cov(z_t, z_{t-k}) \\le \\sqrt{Var(z_t)} \\sqrt{Var(z_{t-k})} = \\sqrt{\\gamma_0} \\sqrt{\\gamma_0} = \\gamma_0$$\n",
    "\n",
    "$$\\therefore \\ \\ \\frac{|\\gamma_k|}{|\\gamma_0|} \\le \\frac{\\gamma_0}{\\gamma_0} = 1$$\n",
    "\n",
    "c) $\\rho_k = \\rho_{-k}$\n",
    "\n",
    "$$\\gamma_k = Cov(k,k) = Var(k)$$\n",
    "\n",
    "$$\\gamma_{-k} = Cov(-k,-k) = Var(-k) = Var((-1)k) = (-1)^2 Var(k) = Var(k)$$\n",
    "\n",
    "$$\\therefore \\gamma_k = \\gamma_{-k}$$\n",
    "\n",
    "$$\\rho_k = \\frac{\\gamma_k}{\\gamma_0} = \\frac{\\gamma_{-k}}{\\gamma_0} = \\rho_{-k}$$"
   ]
  },
  {
   "cell_type": "markdown",
   "metadata": {},
   "source": [
    "### 5) Dada la siguiente serie de tiempo"
   ]
  },
  {
   "cell_type": "code",
   "execution_count": 2,
   "metadata": {},
   "outputs": [],
   "source": [
    "dts = [53, 43, 66, 48, 52, 42, 44, 56, 44, 58, 41, 54, 51, 56, 38, 56, 49, 52, 32, 52, 59, 34, 57, 39, 60, 40, 52, 44, 65, 43]"
   ]
  },
  {
   "cell_type": "code",
   "execution_count": 3,
   "metadata": {},
   "outputs": [],
   "source": [
    "serie = pd.DataFrame(dts, columns = [\"Registros\"])"
   ]
  },
  {
   "cell_type": "code",
   "execution_count": 4,
   "metadata": {},
   "outputs": [
    {
     "data": {
      "text/html": [
       "<div>\n",
       "<style scoped>\n",
       "    .dataframe tbody tr th:only-of-type {\n",
       "        vertical-align: middle;\n",
       "    }\n",
       "\n",
       "    .dataframe tbody tr th {\n",
       "        vertical-align: top;\n",
       "    }\n",
       "\n",
       "    .dataframe thead th {\n",
       "        text-align: right;\n",
       "    }\n",
       "</style>\n",
       "<table border=\"1\" class=\"dataframe\">\n",
       "  <thead>\n",
       "    <tr style=\"text-align: right;\">\n",
       "      <th></th>\n",
       "      <th>Registros</th>\n",
       "    </tr>\n",
       "  </thead>\n",
       "  <tbody>\n",
       "    <tr>\n",
       "      <th>0</th>\n",
       "      <td>53</td>\n",
       "    </tr>\n",
       "    <tr>\n",
       "      <th>1</th>\n",
       "      <td>43</td>\n",
       "    </tr>\n",
       "    <tr>\n",
       "      <th>2</th>\n",
       "      <td>66</td>\n",
       "    </tr>\n",
       "    <tr>\n",
       "      <th>3</th>\n",
       "      <td>48</td>\n",
       "    </tr>\n",
       "    <tr>\n",
       "      <th>4</th>\n",
       "      <td>52</td>\n",
       "    </tr>\n",
       "    <tr>\n",
       "      <th>5</th>\n",
       "      <td>42</td>\n",
       "    </tr>\n",
       "    <tr>\n",
       "      <th>6</th>\n",
       "      <td>44</td>\n",
       "    </tr>\n",
       "    <tr>\n",
       "      <th>7</th>\n",
       "      <td>56</td>\n",
       "    </tr>\n",
       "    <tr>\n",
       "      <th>8</th>\n",
       "      <td>44</td>\n",
       "    </tr>\n",
       "    <tr>\n",
       "      <th>9</th>\n",
       "      <td>58</td>\n",
       "    </tr>\n",
       "    <tr>\n",
       "      <th>10</th>\n",
       "      <td>41</td>\n",
       "    </tr>\n",
       "    <tr>\n",
       "      <th>11</th>\n",
       "      <td>54</td>\n",
       "    </tr>\n",
       "    <tr>\n",
       "      <th>12</th>\n",
       "      <td>51</td>\n",
       "    </tr>\n",
       "    <tr>\n",
       "      <th>13</th>\n",
       "      <td>56</td>\n",
       "    </tr>\n",
       "    <tr>\n",
       "      <th>14</th>\n",
       "      <td>38</td>\n",
       "    </tr>\n",
       "    <tr>\n",
       "      <th>15</th>\n",
       "      <td>56</td>\n",
       "    </tr>\n",
       "    <tr>\n",
       "      <th>16</th>\n",
       "      <td>49</td>\n",
       "    </tr>\n",
       "    <tr>\n",
       "      <th>17</th>\n",
       "      <td>52</td>\n",
       "    </tr>\n",
       "    <tr>\n",
       "      <th>18</th>\n",
       "      <td>32</td>\n",
       "    </tr>\n",
       "    <tr>\n",
       "      <th>19</th>\n",
       "      <td>52</td>\n",
       "    </tr>\n",
       "    <tr>\n",
       "      <th>20</th>\n",
       "      <td>59</td>\n",
       "    </tr>\n",
       "    <tr>\n",
       "      <th>21</th>\n",
       "      <td>34</td>\n",
       "    </tr>\n",
       "    <tr>\n",
       "      <th>22</th>\n",
       "      <td>57</td>\n",
       "    </tr>\n",
       "    <tr>\n",
       "      <th>23</th>\n",
       "      <td>39</td>\n",
       "    </tr>\n",
       "    <tr>\n",
       "      <th>24</th>\n",
       "      <td>60</td>\n",
       "    </tr>\n",
       "    <tr>\n",
       "      <th>25</th>\n",
       "      <td>40</td>\n",
       "    </tr>\n",
       "    <tr>\n",
       "      <th>26</th>\n",
       "      <td>52</td>\n",
       "    </tr>\n",
       "    <tr>\n",
       "      <th>27</th>\n",
       "      <td>44</td>\n",
       "    </tr>\n",
       "    <tr>\n",
       "      <th>28</th>\n",
       "      <td>65</td>\n",
       "    </tr>\n",
       "    <tr>\n",
       "      <th>29</th>\n",
       "      <td>43</td>\n",
       "    </tr>\n",
       "  </tbody>\n",
       "</table>\n",
       "</div>"
      ],
      "text/plain": [
       "    Registros\n",
       "0          53\n",
       "1          43\n",
       "2          66\n",
       "3          48\n",
       "4          52\n",
       "5          42\n",
       "6          44\n",
       "7          56\n",
       "8          44\n",
       "9          58\n",
       "10         41\n",
       "11         54\n",
       "12         51\n",
       "13         56\n",
       "14         38\n",
       "15         56\n",
       "16         49\n",
       "17         52\n",
       "18         32\n",
       "19         52\n",
       "20         59\n",
       "21         34\n",
       "22         57\n",
       "23         39\n",
       "24         60\n",
       "25         40\n",
       "26         52\n",
       "27         44\n",
       "28         65\n",
       "29         43"
      ]
     },
     "execution_count": 4,
     "metadata": {},
     "output_type": "execute_result"
    }
   ],
   "source": [
    "serie"
   ]
  },
  {
   "cell_type": "markdown",
   "metadata": {},
   "source": [
    "### Graficar la serie"
   ]
  },
  {
   "cell_type": "code",
   "execution_count": 5,
   "metadata": {},
   "outputs": [
    {
     "data": {
      "text/plain": [
       "[<matplotlib.lines.Line2D at 0x296a4cfb588>]"
      ]
     },
     "execution_count": 5,
     "metadata": {},
     "output_type": "execute_result"
    },
    {
     "data": {
      "image/png": "[encoded data removed]",
      "text/plain": [
       "<Figure size 1080x360 with 1 Axes>"
      ]
     },
     "metadata": {
      "needs_background": "light"
     },
     "output_type": "display_data"
    }
   ],
   "source": [
    "plt.figure(figsize=(15,5))\n",
    "plt.plot(serie)"
   ]
  },
  {
   "cell_type": "markdown",
   "metadata": {},
   "source": [
    "### Calcular   $\\ \\hat{\\rho}_k, \\ \\ \\ k = 0,1,2,3,4,5$"
   ]
  },
  {
   "cell_type": "markdown",
   "metadata": {},
   "source": [
    "Recordatorio: $$\\hat{\\gamma}_k = \\frac{1}{n} \\sum_{t=1}^{n-k} (z_t - \\bar{z})(z_{t+k} - \\bar{z})$$\n",
    "$$\\hat{\\rho}_k = \\frac{\\hat{\\gamma}_k}{\\hat{\\gamma}_0}$$"
   ]
  },
  {
   "cell_type": "code",
   "execution_count": 6,
   "metadata": {},
   "outputs": [],
   "source": [
    "def rho(serie, k):\n",
    "    rho = 0\n",
    "    div = 0\n",
    "    z = input(\"Ingresa el nombre de la columna con los datos Z: \")\n",
    "    mu = serie[z].mean()\n",
    "    for t in range(0,len(serie)-k): #Obtenemos gamma_k\n",
    "        r = (serie[z][t]-mu)*(serie[z][t+k]-mu)\n",
    "        rho = rho + r\n",
    "    gamma_k = rho/len(serie)\n",
    "    for t in range(0,len(serie)): #Obtenemos gamma_0\n",
    "        r1 = (serie[z][t]-mu)*(serie[z][t]-mu)\n",
    "        div = rho + r1\n",
    "    gamma_0 = div\n",
    "    rho = gamma_k/gamma_0\n",
    "    print(rho)"
   ]
  },
  {
   "cell_type": "markdown",
   "metadata": {},
   "source": [
    "$\\hat{\\rho}_0$"
   ]
  },
  {
   "cell_type": "code",
   "execution_count": 7,
   "metadata": {},
   "outputs": [
    {
     "name": "stdout",
     "output_type": "stream",
     "text": [
      "Ingresa el nombre de la columna con los datos Z: Registros\n",
      "0.03273982737361282\n"
     ]
    }
   ],
   "source": [
    "rho(serie, 0)"
   ]
  },
  {
   "cell_type": "markdown",
   "metadata": {},
   "source": [
    "$\\hat{\\rho}_1$"
   ]
  },
  {
   "cell_type": "code",
   "execution_count": 8,
   "metadata": {},
   "outputs": [
    {
     "name": "stdout",
     "output_type": "stream",
     "text": [
      "Ingresa el nombre de la columna con los datos Z: Registros\n",
      "0.03436024350002844\n"
     ]
    }
   ],
   "source": [
    "rho(serie,1)"
   ]
  },
  {
   "cell_type": "markdown",
   "metadata": {},
   "source": [
    "$\\hat{\\rho}_2$"
   ]
  },
  {
   "cell_type": "code",
   "execution_count": 9,
   "metadata": {},
   "outputs": [
    {
     "name": "stdout",
     "output_type": "stream",
     "text": [
      "Ingresa el nombre de la columna con los datos Z: Registros\n",
      "0.03143742450501549\n"
     ]
    }
   ],
   "source": [
    "rho(serie, 2)"
   ]
  },
  {
   "cell_type": "markdown",
   "metadata": {},
   "source": [
    "$\\hat{\\rho}_3$"
   ]
  },
  {
   "cell_type": "code",
   "execution_count": 10,
   "metadata": {},
   "outputs": [
    {
     "name": "stdout",
     "output_type": "stream",
     "text": [
      "Ingresa el nombre de la columna con los datos Z: Registros\n",
      "0.035332225913621264\n"
     ]
    }
   ],
   "source": [
    "rho(serie, 3)"
   ]
  },
  {
   "cell_type": "markdown",
   "metadata": {},
   "source": [
    "$\\hat{\\rho}_4$"
   ]
  },
  {
   "cell_type": "code",
   "execution_count": 11,
   "metadata": {},
   "outputs": [
    {
     "name": "stdout",
     "output_type": "stream",
     "text": [
      "Ingresa el nombre de la columna con los datos Z: Registros\n",
      "0.03154025728902796\n"
     ]
    }
   ],
   "source": [
    "rho(serie, 4)"
   ]
  },
  {
   "cell_type": "markdown",
   "metadata": {},
   "source": [
    "$\\hat{\\rho}_5$"
   ]
  },
  {
   "cell_type": "code",
   "execution_count": 12,
   "metadata": {},
   "outputs": [
    {
     "name": "stdout",
     "output_type": "stream",
     "text": [
      "Ingresa el nombre de la columna con los datos Z: Registros\n",
      "0.040003695491500374\n"
     ]
    }
   ],
   "source": [
    "rho(serie, 5)"
   ]
  },
  {
   "cell_type": "markdown",
   "metadata": {},
   "source": [
    "### 6) Encontrar la ACF $\\rho_k$ y PACF $\\hat{\\phi}_{kk}$ para los siguientes procesos\n",
    "\n",
    "#### a) $X_t = 0.5X_{t-1} + w_t$\n",
    "\n",
    "$$\\rho_0 = (0.5)^0 = 1$$\n",
    "\n",
    "$$\\rho_1 = (0.5)^1 = 0.5$$\n",
    "\n",
    "$$\\rho_2 = (0.5)^2 = 0.25$$\n",
    "\n",
    "$$\\rho_3 = (0.5)^3 = 0.125$$\n",
    "\n",
    "$$\\rho_4 = (0.5)^4 = 0.0625$$\n",
    "\n",
    "$$\\rho_5 = (0.5)^5 = 0.03125$$\n",
    "\n",
    "$$\\phi_{1,1} = 0.5$$\n",
    "\n",
    "OBS: $\\forall k \\in [2,5] \\phi_{k,k} = 0$\n",
    "\n",
    "#### b) $X_t = 0.98X_{t-1}+w_t$\n",
    "\n",
    "$$\\rho_0 = (0.98)^0 = 1$$\n",
    "\n",
    "$$\\rho_1 = (0.98)^1 = 0.98$$\n",
    "\n",
    "$$\\rho_2 = (0.98)^2 = 0.9604$$\n",
    "\n",
    "$$\\rho_3 = (0.98)^3 = 0.941192$$\n",
    "\n",
    "$$\\rho_4 = (0.98)^4 = 0.92236816$$\n",
    "\n",
    "$$\\rho_5 = (0.98)^5 = 0.9039207968$$\n",
    "\n",
    "$$\\phi_{1,1} = 0.98$$\n",
    "\n",
    "OBS: $\\forall k \\in [2,5] \\phi_{k,k} = 0$\n",
    "\n",
    "#### c) $X_t = 1.3X_{t-1}-0.4X_{t-2} + w_t$\n",
    "\n",
    "$$\\rho_0 = 1$$\n",
    "\n",
    "$$\\rho_1 = \\frac{\\phi_1}{1-\\phi_2} = \\frac{1.3}{1-(-0.4)} = 0.9285$$\n",
    "\n",
    "$$\\rho_2 = \\frac{\\phi_1^2 +\\phi_2(1-\\phi_2)}{1-\\phi_2} = \\frac{(1.3)^2+(-0.4)(1-(-0.4))}{1-(-0.4)} = 0.8071$$\n",
    "\n",
    "$$\\rho_3 = \\phi_1 \\rho_2 + \\phi_2\\rho_1 = (1.3)(0.8071) + (-0.4)(0.9285) = 0.6778$$\n",
    "\n",
    "$$\\rho_4 = \\phi_1 \\rho_3 + \\phi_2\\rho_2 = (1.3)(0.6778) + (-0.4)(0.8071) = 0.5583$$\n",
    "\n",
    "$$\\rho_5 = \\phi_1 \\rho_4 + \\phi_2\\rho_3 = (1.3)(0.5583) + (-0.4)(0.6778) = 0.4546$$\n",
    "\n",
    "$$\\phi_{1,1} = \\rho_1 = 0.9285$$\n",
    "\n",
    "$$\\phi_{2,2} = \\phi_2 = -0.4$$\n",
    "\n",
    "$$\\phi_{1,2} = \\phi_1 = 1.3$$\n",
    "\n",
    "OBS: $\\forall k \\in [3,5] \\phi_{k,k} = 0$\n",
    "\n",
    "\n",
    "#### d) $X_t = 1.2X_{t-1}-0.8X_{t-2}+w_t$\n",
    "\n",
    "$$\\rho_0 = 1$$\n",
    "\n",
    "$$\\rho_1 = \\frac{\\phi_1}{1-\\phi_2} = \\frac{1.2}{1-(-0.8)} = 0.6667$$\n",
    "\n",
    "$$\\rho_2 = \\frac{\\phi_1^2 +\\phi_2(1-\\phi_2)}{1-\\phi_2} = \\frac{(1.2)^2+(-0.8)(1-(-0.8))}{1-(-0.8)} = 0$$\n",
    "\n",
    "$$\\rho_3 = \\phi_1 \\rho_2 + \\phi_2\\rho_1 = (1.2)(0) + (-0.8)(0.6667) = -0.53336$$\n",
    "\n",
    "$$\\rho_4 = \\phi_1 \\rho_3 + \\phi_2\\rho_2 = (1.2)(-0.53336) + (-0.8)(0) = -0.640032$$\n",
    "\n",
    "$$\\rho_5 = \\phi_1 \\rho_4 + \\phi_2\\rho_3 = (1.2)(-0.640032) + (-0.8)(-0.53336) = -0.3413501$$\n",
    "\n",
    "$$\\phi_{1,1} = \\rho_1 = 0.6667$$\n",
    "\n",
    "$$\\phi_{2,2} = \\phi_2 = -0.8$$\n",
    "\n",
    "$$\\phi_{1,2} = \\phi_1 = 1.2$$\n",
    "\n",
    "OBS: $\\forall k \\in [3,5] \\phi_{k,k} = 0$"
   ]
  },
  {
   "cell_type": "markdown",
   "metadata": {},
   "source": [
    "### 7) Encontrar el rango de valores que puede tomar $\\alpha$ tal que el proceso $X_t = X_{t-1} + \\alpha X_{t-2} + w_t$ sea estacionario"
   ]
  },
  {
   "cell_type": "markdown",
   "metadata": {},
   "source": [
    "$$w_t = X_t-X_{t-1}-\\alpha X_{t-2}$$\n",
    "\n",
    "$$w_t = (1-B-\\alpha B^2)X_t$$\n",
    "\n",
    "$$\\begin{array}{l}\\\n",
    "a = -\\alpha \\\\\n",
    "b = -1 \\\\\n",
    "c =  1 \\\\\n",
    "\\end{array}$$\n",
    "\n",
    "$$B_1 = \\frac{-\\phi_1 + \\sqrt{\\phi_1^2+4\\alpha}}{2\\alpha}$$\n",
    "\n",
    "$$B_2 = \\frac{-\\phi_1 - \\sqrt{\\phi_1^2+4\\alpha}}{2\\alpha}$$\n",
    "\n",
    "$$\\frac{1}{B_1} = \\frac{2\\alpha}{-\\phi_1 + \\sqrt{\\phi_1^2+4\\alpha}} \\cdot \\frac{\\phi_1 + \\sqrt{\\phi_1^2+4\\alpha}}{\\phi_1 + \\sqrt{\\phi_1^2+4\\alpha}} = \\frac{\\phi_1 + \\sqrt{\\phi_1^2+4\\alpha}}{2}$$\n",
    "\n",
    "$$\\frac{1}{B_2} = \\frac{2\\alpha}{-\\phi_1+\\sqrt{\\phi_1^2+4\\alpha}}\\cdot\\frac{\\phi_1-\\sqrt{\\phi_1^2+4\\alpha}}{\\phi_1-\\sqrt{\\phi_1^2+4\\alpha}} = \\frac{\\phi_1-\\sqrt{\\phi_1^2+4\\alpha}}{2}$$\n",
    "\n",
    "OBS: $|B_1| > 1 \\ \\ \\ \\ |B_2| > 1$\n",
    "\n",
    "$$\\Rightarrow |\\frac{1}{B_1}| < 1 \\ \\ \\ \\ |\\frac{1}{B-2}| < 1$$\n",
    "\n",
    "$$|\\frac{1}{B_1}\\cdot \\frac{1}{B_2}| = |\\frac{-\\phi_1^2-\\phi_1^2+4\\alpha}{4}| = |\\alpha| < 1$$\n",
    "\n",
    "$$\\therefore \\text{El proceso es estacionario syss} \\ -1<\\alpha<1$$\n",
    "\n",
    "### Calcular la ACF cuando $\\alpha = -\\frac{1}{2}$\n",
    "\n",
    "$$\\rho_0 = 1$$\n",
    "\n",
    "$$\\rho_1 = \\frac{\\phi_1 + \\phi_2\\phi_1}{1+\\phi_1^2+\\phi_2^2} = \\frac{1+1(-\\frac{1}{2})}{1+(1)^2+(-\\frac{1}{2})^2} = 0.222222$$\n",
    "\n",
    "$$\\rho_2 = \\frac{\\phi_2}{1+\\phi_1^2+\\phi_2^2} = \\frac{-\\frac{1}{2}}{1+(-1)^2+(-\\frac{1}{2})^2} = -0.222222$$"
   ]
  },
  {
   "cell_type": "markdown",
   "metadata": {},
   "source": [
    "### 8) Considera el proceso $X_t = w_t + 1.2 w_{t-1} + 0.5 w_{t-2}$ \n",
    "\n",
    "-> Encuentra la $ACF \\rho_k$\n",
    "\n",
    "$$\\rho_0 = 1$$\n",
    "\n",
    "$$\\rho_1 = \\frac{\\gamma_1}{\\gamma_0} = \\frac{\\phi_1 + \\phi_2 \\phi_1}{1+\\phi_1^2+\\phi_2^2} = \\frac{1.2 + 1.2(0.5)}{1+(1.2)^2+(0.5)^2}=0.6691$$\n",
    "\n",
    "$$\\rho_2 = \\frac{\\gamma_2}{\\gamma_0} = \\frac{\\phi_2}{1+\\phi_1^2+\\phi_2^2} = \\frac{0.5}{1+(1.2)^2+(0.5)^2}=0.1858$$\n",
    "\n",
    "$$\\phi_{1,1} = \\rho_1 = 0.6691$$\n",
    "\n",
    "$$\\phi_{2,2} = \\rho_2 = 0.1858$$\n",
    "\n",
    "$$\\phi_{1,2} = \\phi_{1,1} - \\phi_{1,1} \\phi_{2,2} = 0.5447 = \\phi_{2,1}$$"
   ]
  },
  {
   "cell_type": "markdown",
   "metadata": {},
   "source": [
    "### 9) Considera el proceso $x_t = w_t + 0.1w_{t-1}+0.21w_{t_2}$\n",
    "\n",
    "-> ¿El modelo es estacionario?\n",
    "\n",
    "$$E[x_t] = E[w_t + 0.1w_{t-1}+0.2w_{t-2}] = 0$$\n",
    "\n",
    "$$\\gamma_k = E[(w_t+0.1w_{t-1}+0.21w_{t-2})(w_{t-k}+0.1w_{t-1-k}+0.21w_{t-2-k})] = E[w_tw_{t-k}+0.1w_tw_{t-1-k}+0.2w_tw_{t-2-k}+0.1w_{t-1}w_{t-k}+0.1^2w_{t-1}w_{t-1-k}+0.021w_{t-1}w_{t-2-k}+0.21w_{t-2}w_{t-k}+0.021w_{t-2}w_{t-1-k}+0.21^2w_{t-2}w_{t-2-k}]$$\n",
    "\n",
    "OBS: si $0<k<2 \\Rightarrow \\gamma_k > 0$\n",
    "\n",
    "Si $k>2 \\Rightarrow \\gamma_k = 0$\n",
    "\n",
    "Como depende de $k$, el modelo es estacionario\n",
    "\n",
    "$$\\rho_1 = \\frac{\\theta_1 + \\theta_1 \\theta_2}{1+\\theta_1^2+\\theta_2^2} = \\frac{0.1+(0.1)(0.21)}{1+(0.1)^2+(0.21)^2} = 0.11478$$\n",
    "\n",
    "$$\\rho_2 = \\frac{\\theta_2}{1+\\theta_1^2+\\theta_2^2} = \\frac{0.21}{1+(0.1)^2+(0.21)^2} = 0.199222$$\n",
    "\n",
    "$$\\phi_{1,1} = \\rho_1 = 0.11478$$\n",
    "\n",
    "$$\\phi_{2,2} = \\rho_2 = 0.199222$$\n",
    "\n",
    "$$\\phi_{2,1} = \\phi_{1,1}-\\phi_{2,2}\\phi_{1,1} = 0.091913$$"
   ]
  },
  {
   "cell_type": "markdown",
   "metadata": {},
   "source": [
    "### 10) De los siguientes modelos\n",
    "\n",
    "$$x_t = 0.5x_{t-1} + w_t$$\n",
    "\n",
    "$$x_t = 0.25x_{t-1} + 0.3x_{t-2} + w_t$$\n",
    "\n",
    "$$x_t = 0.13w_{t-1} + w_t$$\n",
    "\n",
    "$$x_t = 0.23w_{t-1}+0.3w_{t-2}+w_t$$\n",
    "\n",
    "#### a) Simular 1000 observaciones\n",
    "\n",
    "#### b) Calcular $\\rho_k$ y $\\phi_{kk}$ de forma analítica para $k = 0,1,2, \\dots , 10$\n",
    "\n",
    "#### c) Estimar $\\rho_k$ y $\\phi_{kk}$ a partir de las 1000 simulaciones con $\\hat{\\rho}_k$ y $\\hat{\\phi}_{kk}$, $k=0,1,2, \\dots, 10$"
   ]
  },
  {
   "cell_type": "code",
   "execution_count": 31,
   "metadata": {},
   "outputs": [],
   "source": [
    "def ar_ma(tipo, orden, k):\n",
    "    \n",
    "    ACF=np.zeros(k)\n",
    "    PACF=np.zeros(k)\n",
    "    if tipo == \"AR\":\n",
    "        if orden == 1:    \n",
    "            f1 = float(input(\"Escribe el valor del coeficiente de X_{t-1}: \"))\n",
    "            for i in range(0,k):\n",
    "                ACF[i] = f1 ** i\n",
    "                if i ==1:\n",
    "                    PACF[i]=f1\n",
    "                else:\n",
    "                    PACF[i] = 0       \n",
    "        else:\n",
    "            f1 = float(input(\"Escribe el valor del coeficiente de X_{t-1}: \"))\n",
    "            f2 = float(input(\"Escribe el valor del coeficiente de X_{t-2}: \"))\n",
    "            for i in range(0,10):\n",
    "                if i==0:\n",
    "                    ACF[i] = 1\n",
    "                elif i==1:\n",
    "                    ACF[i] = f1 / (1-f2)\n",
    "                    PACF[i] = ACF[i]\n",
    "                elif i==2:\n",
    "                    ACF[i] = (f1**2 + f2*(1-f2))/(1-f2)\n",
    "                    PACF[i] = f2\n",
    "                else:\n",
    "                    ACF[i] = f1*ACF[i-1] + f2*ACF[i-2]\n",
    "                    PACF[i] = 0\n",
    "    else:\n",
    "        if orden == 1:    \n",
    "            t1 = float(input(\"Escribe el valor de theta_{t-1} \"))\n",
    "            for i in range(0,k):\n",
    "                if i == 0:\n",
    "                    ACF[i] = 1\n",
    "                elif i ==1:                \n",
    "                    ACF[i] = -t1/(1+t1**2)\n",
    "                    PACF[i] = (-t1*(1-t1**2))/(1+t1**4)\n",
    "                else:\n",
    "                    ACF[i] = 0\n",
    "                    PACF[i] = 0               \n",
    "\n",
    "        else:\n",
    "            t1 = float(input(\"Escribe el valor de theta_{t-1} \"))\n",
    "            t2 = float(input(\"Escribe el valor de theta_{t-2} \"))\n",
    "            for i in range(0,k):\n",
    "                if i == 0:\n",
    "                    ACF[i] = 1\n",
    "                elif i == 1:\n",
    "                    ACF[i] = (t1+(t1*t2))/(1+ (t1**2) + (t2**2))\n",
    "                    PACF[i] = ACF[1]\n",
    "                elif i ==2:\n",
    "                    ACF[i] = t2/(1+(t1**2)+(t2**2))\n",
    "                    PACF[i] = (ACF[2] - PACF[1]*ACF[1])/(1-ACF[1]*PACF[1])\n",
    "                else:\n",
    "                    ACF[i] = 0\n",
    "\n",
    "\n",
    "    for i in range(0,k):\n",
    "        if i == 0:\n",
    "            print(\"El valor de ACF(0) es:\" , ACF[0]) \n",
    "        else:\n",
    "            print(\"El valor de ACF({}) es:\".format(i) , ACF[i], \"\\t El valor de PACF({},{}) es: \".format(i,i), PACF[i])"
   ]
  },
  {
   "cell_type": "markdown",
   "metadata": {},
   "source": [
    "$$x_t = 0.5x_{t-1} + w_t$$"
   ]
  },
  {
   "cell_type": "code",
   "execution_count": 34,
   "metadata": {},
   "outputs": [
    {
     "data": {
      "text/plain": [
       "array([ 0.        ,  1.01203095, -0.47253891,  0.05934935, -2.75930213])"
      ]
     },
     "execution_count": 34,
     "metadata": {},
     "output_type": "execute_result"
    }
   ],
   "source": [
    "W = np.random.randn(1000)\n",
    "X = np.zeros(1000)\n",
    "for t in range(1, len(W)):\n",
    "    X[t] = 0.5*X[t-1] + W[t]\n",
    "X[0:5]"
   ]
  },
  {
   "cell_type": "code",
   "execution_count": 42,
   "metadata": {},
   "outputs": [
    {
     "name": "stdout",
     "output_type": "stream",
     "text": [
      "Escribe el valor del coeficiente de X_{t-1}: 0.5\n",
      "El valor de ACF(0) es: 1.0\n",
      "El valor de ACF(1) es: 0.5 \t El valor de PACF(1,1) es:  0.5\n",
      "El valor de ACF(2) es: 0.25 \t El valor de PACF(2,2) es:  0.0\n",
      "El valor de ACF(3) es: 0.125 \t El valor de PACF(3,3) es:  0.0\n",
      "El valor de ACF(4) es: 0.0625 \t El valor de PACF(4,4) es:  0.0\n",
      "El valor de ACF(5) es: 0.03125 \t El valor de PACF(5,5) es:  0.0\n",
      "El valor de ACF(6) es: 0.015625 \t El valor de PACF(6,6) es:  0.0\n",
      "El valor de ACF(7) es: 0.0078125 \t El valor de PACF(7,7) es:  0.0\n",
      "El valor de ACF(8) es: 0.00390625 \t El valor de PACF(8,8) es:  0.0\n",
      "El valor de ACF(9) es: 0.001953125 \t El valor de PACF(9,9) es:  0.0\n",
      "El valor de ACF(10) es: 0.0009765625 \t El valor de PACF(10,10) es:  0.0\n"
     ]
    }
   ],
   "source": [
    "ar_ma(\"AR\",1,11)"
   ]
  },
  {
   "cell_type": "code",
   "execution_count": 41,
   "metadata": {},
   "outputs": [
    {
     "name": "stdout",
     "output_type": "stream",
     "text": [
      "Rho_0 = 0.000999296828897493\n",
      "Rho_1 = 0.0009985770396660734\n",
      "Rho_2 = 0.000997205646675367\n",
      "Rho_3 = 0.0009947250897335647\n",
      "Rho_4 = 0.0009857991984843653\n",
      "Rho_5 = 0.0009765692527195819\n",
      "Rho_6 = 0.0010628303397843262\n",
      "Rho_7 = 0.0009469836574215338\n",
      "Rho_8 = 0.000982979251777966\n",
      "Rho_9 = 0.0009474936463213969\n",
      "Rho_10 = 0.001530434253414516\n"
     ]
    }
   ],
   "source": [
    "for k in range(0,11):\n",
    "    rho = 0\n",
    "    div = 0\n",
    "    mu = X.mean()\n",
    "    for t in range(0,len(X)-k): #Obtenemos gamma_k\n",
    "        r = (X[t]-mu)*(X[t+k]-mu)\n",
    "        rho = rho + r\n",
    "    gamma_k = rho/len(X)\n",
    "    for t in range(0,len(X)): #Obtenemos gamma_0\n",
    "        r1 = (X[t]-mu)*(X[t]-mu)\n",
    "        div = rho + r1\n",
    "    gamma_0 = div\n",
    "    rho = gamma_k/gamma_0\n",
    "    print(\"Rho_{} = {}\".format(k, rho))"
   ]
  },
  {
   "cell_type": "markdown",
   "metadata": {},
   "source": [
    "$$x_t = 0.25x_{t-1} + 0.3x_{t-2} + w_t$$"
   ]
  },
  {
   "cell_type": "code",
   "execution_count": 43,
   "metadata": {},
   "outputs": [
    {
     "data": {
      "text/plain": [
       "array([ 0.        ,  0.        , -0.63097676, -0.56186155,  0.45668105])"
      ]
     },
     "execution_count": 43,
     "metadata": {},
     "output_type": "execute_result"
    }
   ],
   "source": [
    "W = np.random.randn(1000)\n",
    "X = np.zeros(1000)\n",
    "for t in range(2, len(W)):\n",
    "    X[t] = 0.25*X[t-1] + 0.3*X[t-2] + W[t]\n",
    "X[0:5]"
   ]
  },
  {
   "cell_type": "code",
   "execution_count": 44,
   "metadata": {},
   "outputs": [
    {
     "name": "stdout",
     "output_type": "stream",
     "text": [
      "Escribe el valor del coeficiente de X_{t-1}: 0.25\n",
      "Escribe el valor del coeficiente de X_{t-2}: 0.3\n",
      "El valor de ACF(0) es: 1.0\n",
      "El valor de ACF(1) es: 0.35714285714285715 \t El valor de PACF(1,1) es:  0.35714285714285715\n",
      "El valor de ACF(2) es: 0.38928571428571423 \t El valor de PACF(2,2) es:  0.3\n",
      "El valor de ACF(3) es: 0.2044642857142857 \t El valor de PACF(3,3) es:  0.0\n",
      "El valor de ACF(4) es: 0.1679017857142857 \t El valor de PACF(4,4) es:  0.0\n",
      "El valor de ACF(5) es: 0.10331473214285714 \t El valor de PACF(5,5) es:  0.0\n",
      "El valor de ACF(6) es: 0.07619921874999999 \t El valor de PACF(6,6) es:  0.0\n",
      "El valor de ACF(7) es: 0.050044224330357136 \t El valor de PACF(7,7) es:  0.0\n",
      "El valor de ACF(8) es: 0.03537082170758928 \t El valor de PACF(8,8) es:  0.0\n",
      "El valor de ACF(9) es: 0.02385597272600446 \t El valor de PACF(9,9) es:  0.0\n",
      "El valor de ACF(10) es: 0.0 \t El valor de PACF(10,10) es:  0.0\n"
     ]
    }
   ],
   "source": [
    "ar_ma(\"AR\", 2, 11)"
   ]
  },
  {
   "cell_type": "code",
   "execution_count": 45,
   "metadata": {},
   "outputs": [
    {
     "name": "stdout",
     "output_type": "stream",
     "text": [
      "Rho_0 = 0.0009999413959707994\n",
      "Rho_1 = 0.0009998238739298967\n",
      "Rho_2 = 0.0009998351801266746\n",
      "Rho_3 = 0.0009996881487064197\n",
      "Rho_4 = 0.0009994550908198532\n",
      "Rho_5 = 0.0009994833521421293\n",
      "Rho_6 = 0.0009993491303973928\n",
      "Rho_7 = 0.0009995770779020368\n",
      "Rho_8 = 0.0009993936391511826\n",
      "Rho_9 = 0.0009995523595778676\n",
      "Rho_10 = 0.000999148162466274\n"
     ]
    }
   ],
   "source": [
    "for k in range(0,11):\n",
    "    rho = 0\n",
    "    div = 0\n",
    "    mu = X.mean()\n",
    "    for t in range(0,len(X)-k): #Obtenemos gamma_k\n",
    "        r = (X[t]-mu)*(X[t+k]-mu)\n",
    "        rho = rho + r\n",
    "    gamma_k = rho/len(X)\n",
    "    for t in range(0,len(X)): #Obtenemos gamma_0\n",
    "        r1 = (X[t]-mu)*(X[t]-mu)\n",
    "        div = rho + r1\n",
    "    gamma_0 = div\n",
    "    rho = gamma_k/gamma_0\n",
    "    print(\"Rho_{} = {}\".format(k, rho))"
   ]
  },
  {
   "cell_type": "markdown",
   "metadata": {},
   "source": [
    "$$x_t = 0.13w_{t-1} + w_t$$"
   ]
  },
  {
   "cell_type": "code",
   "execution_count": 46,
   "metadata": {},
   "outputs": [
    {
     "data": {
      "text/plain": [
       "array([ 0.        ,  0.10346894,  1.16189374,  0.51680575, -0.3580823 ])"
      ]
     },
     "execution_count": 46,
     "metadata": {},
     "output_type": "execute_result"
    }
   ],
   "source": [
    "W = np.random.randn(1000)\n",
    "X = np.zeros(1000)\n",
    "for t in range(1, len(W)):\n",
    "    X[t] = 0.13*W[t-1] + W[t]\n",
    "X[0:5]"
   ]
  },
  {
   "cell_type": "code",
   "execution_count": 48,
   "metadata": {},
   "outputs": [
    {
     "name": "stdout",
     "output_type": "stream",
     "text": [
      "Escribe el valor de theta_{t-1} 0.13\n",
      "El valor de ACF(0) es: 1.0\n",
      "El valor de ACF(1) es: -0.12783951224309176 \t El valor de PACF(1,1) es:  -0.12776650860747663\n",
      "El valor de ACF(2) es: 0.0 \t El valor de PACF(2,2) es:  0.0\n",
      "El valor de ACF(3) es: 0.0 \t El valor de PACF(3,3) es:  0.0\n",
      "El valor de ACF(4) es: 0.0 \t El valor de PACF(4,4) es:  0.0\n",
      "El valor de ACF(5) es: 0.0 \t El valor de PACF(5,5) es:  0.0\n",
      "El valor de ACF(6) es: 0.0 \t El valor de PACF(6,6) es:  0.0\n",
      "El valor de ACF(7) es: 0.0 \t El valor de PACF(7,7) es:  0.0\n",
      "El valor de ACF(8) es: 0.0 \t El valor de PACF(8,8) es:  0.0\n",
      "El valor de ACF(9) es: 0.0 \t El valor de PACF(9,9) es:  0.0\n",
      "El valor de ACF(10) es: 0.0 \t El valor de PACF(10,10) es:  0.0\n"
     ]
    }
   ],
   "source": [
    "ar_ma(\"MA\", 1, 11)"
   ]
  },
  {
   "cell_type": "code",
   "execution_count": 49,
   "metadata": {},
   "outputs": [
    {
     "name": "stdout",
     "output_type": "stream",
     "text": [
      "Rho_0 = 0.0009998189613449773\n",
      "Rho_1 = 0.0009979254032454114\n",
      "Rho_2 = 0.0010048375945605058\n",
      "Rho_3 = 0.0010028539182840625\n",
      "Rho_4 = 0.0010042561745802136\n",
      "Rho_5 = 0.0009913576681453236\n",
      "Rho_6 = 0.0009863077357853893\n",
      "Rho_7 = 0.0010053279302605254\n",
      "Rho_8 = 0.0009962192386581254\n",
      "Rho_9 = 0.0009318341441301014\n",
      "Rho_10 = 0.0010321725780123522\n"
     ]
    }
   ],
   "source": [
    "for k in range(0,11):\n",
    "    rho = 0\n",
    "    div = 0\n",
    "    mu = X.mean()\n",
    "    for t in range(0,len(X)-k): #Obtenemos gamma_k\n",
    "        r = (X[t]-mu)*(X[t+k]-mu)\n",
    "        rho = rho + r\n",
    "    gamma_k = rho/len(X)\n",
    "    for t in range(0,len(X)): #Obtenemos gamma_0\n",
    "        r1 = (X[t]-mu)*(X[t]-mu)\n",
    "        div = rho + r1\n",
    "    gamma_0 = div\n",
    "    rho = gamma_k/gamma_0\n",
    "    print(\"Rho_{} = {}\".format(k, rho))"
   ]
  },
  {
   "cell_type": "markdown",
   "metadata": {},
   "source": [
    "$$x_t = 0.23w_{t-1}+0.3w_{t-2}+w_t$$"
   ]
  },
  {
   "cell_type": "code",
   "execution_count": 50,
   "metadata": {},
   "outputs": [
    {
     "data": {
      "text/plain": [
       "array([ 0.        ,  0.        , -1.13182166, -0.99161826, -1.29902457])"
      ]
     },
     "execution_count": 50,
     "metadata": {},
     "output_type": "execute_result"
    }
   ],
   "source": [
    "W = np.random.randn(1000)\n",
    "X = np.zeros(1000)\n",
    "for t in range(2, len(W)):\n",
    "    X[t] = 0.23*W[t-1] + 0.3*W[t-2] + W[t]\n",
    "X[0:5]"
   ]
  },
  {
   "cell_type": "code",
   "execution_count": 51,
   "metadata": {},
   "outputs": [
    {
     "name": "stdout",
     "output_type": "stream",
     "text": [
      "Escribe el valor de theta_{t-1} 0.23\n",
      "Escribe el valor de theta_{t-2} 0.3\n",
      "El valor de ACF(0) es: 1.0\n",
      "El valor de ACF(1) es: 0.2616151894303964 \t El valor de PACF(1,1) es:  0.2616151894303964\n",
      "El valor de ACF(2) es: 0.2624901566191268 \t El valor de PACF(2,2) es:  0.2083045338666976\n",
      "El valor de ACF(3) es: 0.0 \t El valor de PACF(3,3) es:  0.0\n",
      "El valor de ACF(4) es: 0.0 \t El valor de PACF(4,4) es:  0.0\n",
      "El valor de ACF(5) es: 0.0 \t El valor de PACF(5,5) es:  0.0\n",
      "El valor de ACF(6) es: 0.0 \t El valor de PACF(6,6) es:  0.0\n",
      "El valor de ACF(7) es: 0.0 \t El valor de PACF(7,7) es:  0.0\n",
      "El valor de ACF(8) es: 0.0 \t El valor de PACF(8,8) es:  0.0\n",
      "El valor de ACF(9) es: 0.0 \t El valor de PACF(9,9) es:  0.0\n",
      "El valor de ACF(10) es: 0.0 \t El valor de PACF(10,10) es:  0.0\n"
     ]
    }
   ],
   "source": [
    "ar_ma(\"MA\", 2, 11)"
   ]
  },
  {
   "cell_type": "code",
   "execution_count": 52,
   "metadata": {},
   "outputs": [
    {
     "name": "stdout",
     "output_type": "stream",
     "text": [
      "Rho_0 = 0.0009986363568406415\n",
      "Rho_1 = 0.0009947631380061018\n",
      "Rho_2 = 0.0009955518808083695\n",
      "Rho_3 = 0.0010518553323838151\n",
      "Rho_4 = 0.0010234685486607432\n",
      "Rho_5 = 0.0010481694180786345\n",
      "Rho_6 = 0.0007867308200012601\n",
      "Rho_7 = 0.0009739196228218685\n",
      "Rho_8 = 0.0009704773805940399\n",
      "Rho_9 = 0.0015550147931314739\n",
      "Rho_10 = 0.0010896298656834769\n"
     ]
    }
   ],
   "source": [
    "for k in range(0,11):\n",
    "    rho = 0\n",
    "    div = 0\n",
    "    mu = X.mean()\n",
    "    for t in range(0,len(X)-k): #Obtenemos gamma_k\n",
    "        r = (X[t]-mu)*(X[t+k]-mu)\n",
    "        rho = rho + r\n",
    "    gamma_k = rho/len(X)\n",
    "    for t in range(0,len(X)): #Obtenemos gamma_0\n",
    "        r1 = (X[t]-mu)*(X[t]-mu)\n",
    "        div = rho + r1\n",
    "    gamma_0 = div\n",
    "    rho = gamma_k/gamma_0\n",
    "    print(\"Rho_{} = {}\".format(k, rho))"
   ]
  },
  {
   "cell_type": "code",
   "execution_count": null,
   "metadata": {},
   "outputs": [],
   "source": []
  }
 ],
 "metadata": {
  "kernelspec": {
   "display_name": "Python 3",
   "language": "python",
   "name": "python3"
  },
  "language_info": {
   "codemirror_mode": {
    "name": "ipython",
    "version": 3
   },
   "file_extension": ".py",
   "mimetype": "text/x-python",
   "name": "python",
   "nbconvert_exporter": "python",
   "pygments_lexer": "ipython3",
   "version": "3.7.6"
  }
 },
 "nbformat": 4,
 "nbformat_minor": 4
}
